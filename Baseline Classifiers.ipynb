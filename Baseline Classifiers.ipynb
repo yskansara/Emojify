{
 "cells": [
  {
   "cell_type": "code",
   "execution_count": 1,
   "metadata": {},
   "outputs": [],
   "source": [
    "#Importing Libraries\n",
    "import pandas as pd\n",
    "import numpy as np\n",
    "import re\n",
    "from nltk.corpus import stopwords\n",
    "from nltk.stem.snowball import SnowballStemmer\n",
    "from sklearn.preprocessing import LabelEncoder\n",
    "from sklearn.feature_extraction.text import TfidfVectorizer\n",
    "from sklearn.model_selection import train_test_split\n",
    "from sklearn.naive_bayes import MultinomialNB\n",
    "from  sklearn.metrics  import accuracy_score\n",
    "from sklearn.multiclass import OneVsOneClassifier\n",
    "from sklearn.svm import LinearSVC\n",
    "from sklearn.ensemble import RandomForestClassifier"
   ]
  },
  {
   "cell_type": "code",
   "execution_count": 2,
   "metadata": {},
   "outputs": [],
   "source": [
    "#Reading data\n",
    "data=pd.read_csv(\"Downloads\\processed_tweets_emojis.csv\")"
   ]
  },
  {
   "cell_type": "code",
   "execution_count": 3,
   "metadata": {},
   "outputs": [
    {
     "data": {
      "text/plain": [
       "(30338, 3)"
      ]
     },
     "execution_count": 3,
     "metadata": {},
     "output_type": "execute_result"
    }
   ],
   "source": [
    "data.shape"
   ]
  },
  {
   "cell_type": "code",
   "execution_count": 4,
   "metadata": {},
   "outputs": [
    {
     "data": {
      "text/html": [
       "<div>\n",
       "<style scoped>\n",
       "    .dataframe tbody tr th:only-of-type {\n",
       "        vertical-align: middle;\n",
       "    }\n",
       "\n",
       "    .dataframe tbody tr th {\n",
       "        vertical-align: top;\n",
       "    }\n",
       "\n",
       "    .dataframe thead th {\n",
       "        text-align: right;\n",
       "    }\n",
       "</style>\n",
       "<table border=\"1\" class=\"dataframe\">\n",
       "  <thead>\n",
       "    <tr style=\"text-align: right;\">\n",
       "      <th></th>\n",
       "      <th>text</th>\n",
       "      <th>emoji</th>\n",
       "      <th>target</th>\n",
       "    </tr>\n",
       "  </thead>\n",
       "  <tbody>\n",
       "    <tr>\n",
       "      <th>0</th>\n",
       "      <td>Zach &lt;UNK&gt; , just &lt;UNK&gt; into the first !</td>\n",
       "      <td>👀</td>\n",
       "      <td>👀</td>\n",
       "    </tr>\n",
       "    <tr>\n",
       "      <th>1</th>\n",
       "      <td>&lt;UNK&gt; want yall sleep , shit does add up in &lt;U...</td>\n",
       "      <td>😂</td>\n",
       "      <td>😂</td>\n",
       "    </tr>\n",
       "    <tr>\n",
       "      <th>2</th>\n",
       "      <td>remember to</td>\n",
       "      <td>👀💭</td>\n",
       "      <td>💭</td>\n",
       "    </tr>\n",
       "    <tr>\n",
       "      <th>3</th>\n",
       "      <td>I hope in real life there are no &lt;UNK&gt; clouds ...</td>\n",
       "      <td>😮😮😮</td>\n",
       "      <td>😮</td>\n",
       "    </tr>\n",
       "    <tr>\n",
       "      <th>4</th>\n",
       "      <td>&lt;UNK&gt; &lt;UNK&gt; ASU ! ! ! GIVE &lt;UNK&gt; &lt;UNK&gt;</td>\n",
       "      <td>😈😈😈</td>\n",
       "      <td>😈</td>\n",
       "    </tr>\n",
       "  </tbody>\n",
       "</table>\n",
       "</div>"
      ],
      "text/plain": [
       "                                                text emoji target\n",
       "0           Zach <UNK> , just <UNK> into the first !     👀      👀\n",
       "1  <UNK> want yall sleep , shit does add up in <U...     😂      😂\n",
       "2                                        remember to    👀💭      💭\n",
       "3  I hope in real life there are no <UNK> clouds ...   😮😮😮      😮\n",
       "4             <UNK> <UNK> ASU ! ! ! GIVE <UNK> <UNK>   😈😈😈      😈"
      ]
     },
     "execution_count": 4,
     "metadata": {},
     "output_type": "execute_result"
    }
   ],
   "source": [
    "data.head()"
   ]
  },
  {
   "cell_type": "code",
   "execution_count": 5,
   "metadata": {},
   "outputs": [],
   "source": [
    "#Data Cleaning\n",
    "def cleaning(df):\n",
    "    stop = stopwords.words('english')\n",
    "    df['text'] = df['text'].apply(lambda x: ' '.join([word for word in x.split() if word!= \"<UNK>\"])) #removing <UNK> from text\n",
    "    df['text'] = df['text'].str.replace('\\W', ' ') #removig special characters\n",
    "    df['text'] = df['text'].apply(lambda x: ' '.join([word for word in x.split() if word not in (stop)])) #removing stopwords\n",
    "    df['text'] = df['text'].str.replace('\\d+', '') #removing digets\n",
    "    df['text']= df['text'].str.replace(r'[^\\x00-\\x7F]+', '') #removing chinese characters\n",
    "    return df"
   ]
  },
  {
   "cell_type": "code",
   "execution_count": 6,
   "metadata": {},
   "outputs": [],
   "source": [
    "cleaned_data=cleaning(data)"
   ]
  },
  {
   "cell_type": "code",
   "execution_count": 7,
   "metadata": {},
   "outputs": [
    {
     "data": {
      "text/html": [
       "<div>\n",
       "<style scoped>\n",
       "    .dataframe tbody tr th:only-of-type {\n",
       "        vertical-align: middle;\n",
       "    }\n",
       "\n",
       "    .dataframe tbody tr th {\n",
       "        vertical-align: top;\n",
       "    }\n",
       "\n",
       "    .dataframe thead th {\n",
       "        text-align: right;\n",
       "    }\n",
       "</style>\n",
       "<table border=\"1\" class=\"dataframe\">\n",
       "  <thead>\n",
       "    <tr style=\"text-align: right;\">\n",
       "      <th></th>\n",
       "      <th>text</th>\n",
       "      <th>emoji</th>\n",
       "      <th>target</th>\n",
       "    </tr>\n",
       "  </thead>\n",
       "  <tbody>\n",
       "    <tr>\n",
       "      <th>0</th>\n",
       "      <td>Zach first</td>\n",
       "      <td>👀</td>\n",
       "      <td>👀</td>\n",
       "    </tr>\n",
       "    <tr>\n",
       "      <th>1</th>\n",
       "      <td>want yall sleep shit add boy</td>\n",
       "      <td>😂</td>\n",
       "      <td>😂</td>\n",
       "    </tr>\n",
       "    <tr>\n",
       "      <th>2</th>\n",
       "      <td>remember</td>\n",
       "      <td>👀💭</td>\n",
       "      <td>💭</td>\n",
       "    </tr>\n",
       "    <tr>\n",
       "      <th>3</th>\n",
       "      <td>I hope real life clouds make</td>\n",
       "      <td>😮😮😮</td>\n",
       "      <td>😮</td>\n",
       "    </tr>\n",
       "    <tr>\n",
       "      <th>4</th>\n",
       "      <td>ASU GIVE</td>\n",
       "      <td>😈😈😈</td>\n",
       "      <td>😈</td>\n",
       "    </tr>\n",
       "  </tbody>\n",
       "</table>\n",
       "</div>"
      ],
      "text/plain": [
       "                           text emoji target\n",
       "0                    Zach first     👀      👀\n",
       "1  want yall sleep shit add boy     😂      😂\n",
       "2                      remember    👀💭      💭\n",
       "3  I hope real life clouds make   😮😮😮      😮\n",
       "4                      ASU GIVE   😈😈😈      😈"
      ]
     },
     "execution_count": 7,
     "metadata": {},
     "output_type": "execute_result"
    }
   ],
   "source": [
    "cleaned_data.head()"
   ]
  },
  {
   "cell_type": "code",
   "execution_count": 9,
   "metadata": {},
   "outputs": [],
   "source": [
    "def selecting_top_50(df):\n",
    "    #dropping all emojis with less than 50 ocurrence\n",
    "    occurences=df[\"target\"].value_counts().to_dict()\n",
    "    l=[]\n",
    "    for i in occurences.keys():\n",
    "        if occurences[i] >=50:\n",
    "            l.append(i)\n",
    "    df = df[df.target.isin(l)]\n",
    "    return df"
   ]
  },
  {
   "cell_type": "code",
   "execution_count": 10,
   "metadata": {},
   "outputs": [],
   "source": [
    "top50=selecting_top_50(data)"
   ]
  },
  {
   "cell_type": "code",
   "execution_count": 11,
   "metadata": {},
   "outputs": [
    {
     "data": {
      "text/html": [
       "<div>\n",
       "<style scoped>\n",
       "    .dataframe tbody tr th:only-of-type {\n",
       "        vertical-align: middle;\n",
       "    }\n",
       "\n",
       "    .dataframe tbody tr th {\n",
       "        vertical-align: top;\n",
       "    }\n",
       "\n",
       "    .dataframe thead th {\n",
       "        text-align: right;\n",
       "    }\n",
       "</style>\n",
       "<table border=\"1\" class=\"dataframe\">\n",
       "  <thead>\n",
       "    <tr style=\"text-align: right;\">\n",
       "      <th></th>\n",
       "      <th>text</th>\n",
       "      <th>emoji</th>\n",
       "      <th>target</th>\n",
       "    </tr>\n",
       "  </thead>\n",
       "  <tbody>\n",
       "    <tr>\n",
       "      <th>0</th>\n",
       "      <td>Zach first</td>\n",
       "      <td>👀</td>\n",
       "      <td>👀</td>\n",
       "    </tr>\n",
       "    <tr>\n",
       "      <th>1</th>\n",
       "      <td>want yall sleep shit add boy</td>\n",
       "      <td>😂</td>\n",
       "      <td>😂</td>\n",
       "    </tr>\n",
       "    <tr>\n",
       "      <th>4</th>\n",
       "      <td>ASU GIVE</td>\n",
       "      <td>😈😈😈</td>\n",
       "      <td>😈</td>\n",
       "    </tr>\n",
       "    <tr>\n",
       "      <th>5</th>\n",
       "      <td>Why fine tho</td>\n",
       "      <td>👀👀</td>\n",
       "      <td>👀</td>\n",
       "    </tr>\n",
       "    <tr>\n",
       "      <th>6</th>\n",
       "      <td>This hilarious</td>\n",
       "      <td>😂</td>\n",
       "      <td>😂</td>\n",
       "    </tr>\n",
       "  </tbody>\n",
       "</table>\n",
       "</div>"
      ],
      "text/plain": [
       "                           text emoji target\n",
       "0                    Zach first     👀      👀\n",
       "1  want yall sleep shit add boy     😂      😂\n",
       "4                      ASU GIVE   😈😈😈      😈\n",
       "5                  Why fine tho    👀👀      👀\n",
       "6                This hilarious     😂      😂"
      ]
     },
     "execution_count": 11,
     "metadata": {},
     "output_type": "execute_result"
    }
   ],
   "source": [
    "top50.head()"
   ]
  },
  {
   "cell_type": "code",
   "execution_count": 12,
   "metadata": {},
   "outputs": [],
   "source": [
    "def stemming(df):\n",
    "    #stemming the text \n",
    "    stemmer = SnowballStemmer(\"english\")\n",
    "    df['stemmed'] = df[\"text\"].apply(lambda x: [stemmer.stem(y) for y in x.split()])\n",
    "    df['stemmed']=[\" \".join(i) for i in df['stemmed'].values]\n",
    "    df=df[df.stemmed != \"\"]\n",
    "    df.drop_duplicates(inplace=True) #dropping duplicates\n",
    "    lb_make = LabelEncoder() #label encoding target variable\n",
    "    df[\"main_target\"] = lb_make.fit_transform(df[\"target\"])\n",
    "    return df"
   ]
  },
  {
   "cell_type": "code",
   "execution_count": 13,
   "metadata": {},
   "outputs": [
    {
     "name": "stderr",
     "output_type": "stream",
     "text": [
      "C:\\Users\\hp\\Anaconda3\\lib\\site-packages\\ipykernel_launcher.py:3: SettingWithCopyWarning: \n",
      "A value is trying to be set on a copy of a slice from a DataFrame.\n",
      "Try using .loc[row_indexer,col_indexer] = value instead\n",
      "\n",
      "See the caveats in the documentation: http://pandas.pydata.org/pandas-docs/stable/indexing.html#indexing-view-versus-copy\n",
      "  This is separate from the ipykernel package so we can avoid doing imports until\n",
      "C:\\Users\\hp\\Anaconda3\\lib\\site-packages\\ipykernel_launcher.py:4: SettingWithCopyWarning: \n",
      "A value is trying to be set on a copy of a slice from a DataFrame.\n",
      "Try using .loc[row_indexer,col_indexer] = value instead\n",
      "\n",
      "See the caveats in the documentation: http://pandas.pydata.org/pandas-docs/stable/indexing.html#indexing-view-versus-copy\n",
      "  after removing the cwd from sys.path.\n",
      "C:\\Users\\hp\\Anaconda3\\lib\\site-packages\\ipykernel_launcher.py:6: SettingWithCopyWarning: \n",
      "A value is trying to be set on a copy of a slice from a DataFrame\n",
      "\n",
      "See the caveats in the documentation: http://pandas.pydata.org/pandas-docs/stable/indexing.html#indexing-view-versus-copy\n",
      "  \n",
      "C:\\Users\\hp\\Anaconda3\\lib\\site-packages\\ipykernel_launcher.py:8: SettingWithCopyWarning: \n",
      "A value is trying to be set on a copy of a slice from a DataFrame.\n",
      "Try using .loc[row_indexer,col_indexer] = value instead\n",
      "\n",
      "See the caveats in the documentation: http://pandas.pydata.org/pandas-docs/stable/indexing.html#indexing-view-versus-copy\n",
      "  \n"
     ]
    }
   ],
   "source": [
    "stemmed_data=stemming(top50)"
   ]
  },
  {
   "cell_type": "code",
   "execution_count": 14,
   "metadata": {},
   "outputs": [
    {
     "data": {
      "text/html": [
       "<div>\n",
       "<style scoped>\n",
       "    .dataframe tbody tr th:only-of-type {\n",
       "        vertical-align: middle;\n",
       "    }\n",
       "\n",
       "    .dataframe tbody tr th {\n",
       "        vertical-align: top;\n",
       "    }\n",
       "\n",
       "    .dataframe thead th {\n",
       "        text-align: right;\n",
       "    }\n",
       "</style>\n",
       "<table border=\"1\" class=\"dataframe\">\n",
       "  <thead>\n",
       "    <tr style=\"text-align: right;\">\n",
       "      <th></th>\n",
       "      <th>text</th>\n",
       "      <th>emoji</th>\n",
       "      <th>target</th>\n",
       "      <th>stemmed</th>\n",
       "      <th>main_target</th>\n",
       "    </tr>\n",
       "  </thead>\n",
       "  <tbody>\n",
       "    <tr>\n",
       "      <th>0</th>\n",
       "      <td>Zach first</td>\n",
       "      <td>👀</td>\n",
       "      <td>👀</td>\n",
       "      <td>zach first</td>\n",
       "      <td>29</td>\n",
       "    </tr>\n",
       "    <tr>\n",
       "      <th>1</th>\n",
       "      <td>want yall sleep shit add boy</td>\n",
       "      <td>😂</td>\n",
       "      <td>😂</td>\n",
       "      <td>want yall sleep shit add boy</td>\n",
       "      <td>65</td>\n",
       "    </tr>\n",
       "    <tr>\n",
       "      <th>4</th>\n",
       "      <td>ASU GIVE</td>\n",
       "      <td>😈😈😈</td>\n",
       "      <td>😈</td>\n",
       "      <td>asu give</td>\n",
       "      <td>70</td>\n",
       "    </tr>\n",
       "    <tr>\n",
       "      <th>5</th>\n",
       "      <td>Why fine tho</td>\n",
       "      <td>👀👀</td>\n",
       "      <td>👀</td>\n",
       "      <td>whi fine tho</td>\n",
       "      <td>29</td>\n",
       "    </tr>\n",
       "    <tr>\n",
       "      <th>6</th>\n",
       "      <td>This hilarious</td>\n",
       "      <td>😂</td>\n",
       "      <td>😂</td>\n",
       "      <td>this hilari</td>\n",
       "      <td>65</td>\n",
       "    </tr>\n",
       "  </tbody>\n",
       "</table>\n",
       "</div>"
      ],
      "text/plain": [
       "                           text emoji target                       stemmed  \\\n",
       "0                    Zach first     👀      👀                    zach first   \n",
       "1  want yall sleep shit add boy     😂      😂  want yall sleep shit add boy   \n",
       "4                      ASU GIVE   😈😈😈      😈                      asu give   \n",
       "5                  Why fine tho    👀👀      👀                  whi fine tho   \n",
       "6                This hilarious     😂      😂                   this hilari   \n",
       "\n",
       "   main_target  \n",
       "0           29  \n",
       "1           65  \n",
       "4           70  \n",
       "5           29  \n",
       "6           65  "
      ]
     },
     "execution_count": 14,
     "metadata": {},
     "output_type": "execute_result"
    }
   ],
   "source": [
    "stemmed_data.head()"
   ]
  },
  {
   "cell_type": "code",
   "execution_count": 15,
   "metadata": {},
   "outputs": [],
   "source": [
    "def test_train_split(df):\n",
    "    #splitting the data\n",
    "    X=df[\"stemmed\"]\n",
    "    y=df[\"main_target\"]\n",
    "    X_train, X_test, y_train, y_test = train_test_split(\n",
    "         X, y, test_size=0.10, random_state=42)\n",
    "    return X_train, X_test, y_train, y_test"
   ]
  },
  {
   "cell_type": "code",
   "execution_count": 16,
   "metadata": {},
   "outputs": [],
   "source": [
    "X_train, X_test, y_train, y_test = test_train_split(stemmed_data)"
   ]
  },
  {
   "cell_type": "code",
   "execution_count": 17,
   "metadata": {},
   "outputs": [],
   "source": [
    "def tfidf(X_train, X_test):\n",
    "    # vectorization before prediction\n",
    "    vectorizer = TfidfVectorizer()\n",
    "    train_vectors = vectorizer.fit_transform(X_train)\n",
    "    test_vectors = vectorizer.transform(X_test)\n",
    "    return train_vectors,test_vectors"
   ]
  },
  {
   "cell_type": "code",
   "execution_count": 18,
   "metadata": {},
   "outputs": [],
   "source": [
    "vec_train,vec_test=tfidf(X_train, X_test)"
   ]
  },
  {
   "cell_type": "code",
   "execution_count": 19,
   "metadata": {},
   "outputs": [
    {
     "name": "stdout",
     "output_type": "stream",
     "text": [
      "0.164866401364\n"
     ]
    }
   ],
   "source": [
    "# Prediction using Naive Bayes\n",
    "clf = MultinomialNB().fit(vec_train, y_train)\n",
    "predicted = clf.predict(vec_test)\n",
    "print(accuracy_score(y_test,predicted))"
   ]
  },
  {
   "cell_type": "code",
   "execution_count": 20,
   "metadata": {},
   "outputs": [
    {
     "name": "stdout",
     "output_type": "stream",
     "text": [
      "0.135304150085\n"
     ]
    }
   ],
   "source": [
    "# Prediction using RandomForest Classifier\n",
    "\n",
    "clf = RandomForestClassifier(n_estimators=10,\n",
    "                              random_state=0)\n",
    "clf.fit(vec_train, y_train)\n",
    "predicted = clf.predict(vec_test)\n",
    "print(accuracy_score(y_test,predicted))"
   ]
  },
  {
   "cell_type": "code",
   "execution_count": 21,
   "metadata": {},
   "outputs": [
    {
     "name": "stdout",
     "output_type": "stream",
     "text": [
      "0.170551449687\n"
     ]
    }
   ],
   "source": [
    "# Prediction using OneVsOneClassifier\n",
    "predicted=OneVsOneClassifier(LinearSVC(random_state=0)).fit(vec_train, y_train).predict(vec_test)\n",
    "print(accuracy_score(y_test,predicted))"
   ]
  },
  {
   "cell_type": "code",
   "execution_count": null,
   "metadata": {},
   "outputs": [],
   "source": []
  }
 ],
 "metadata": {
  "kernelspec": {
   "display_name": "Python 3",
   "language": "python",
   "name": "python3"
  },
  "language_info": {
   "codemirror_mode": {
    "name": "ipython",
    "version": 3
   },
   "file_extension": ".py",
   "mimetype": "text/x-python",
   "name": "python",
   "nbconvert_exporter": "python",
   "pygments_lexer": "ipython3",
   "version": "3.6.5"
  }
 },
 "nbformat": 4,
 "nbformat_minor": 2
}
